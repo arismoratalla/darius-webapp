{
 "cells": [
  {
   "cell_type": "code",
   "execution_count": 8,
   "metadata": {},
   "outputs": [],
   "source": [
    "import streamlit as st\n",
    "import pandas as pd\n",
    "import numpy as np\n",
    "import time\n",
    "\n",
    "import matplotlib.pyplot as plt # plotting library\n",
    "import seaborn as sns # pretty plotting\n",
    "\n",
    "sns.set(rc={'figure.figsize':(20,10)})\n",
    "\n",
    "from sklearn.linear_model import LinearRegression # linear regression package\n",
    "from sklearn.model_selection import train_test_split # split dataset\n",
    "\n",
    "from sklearn.linear_model import Lasso\n",
    "\n",
    "from sklearn.linear_model import Ridge\n",
    "\n",
    "from sklearn.metrics import mean_squared_error as mse"
   ]
  },
  {
   "cell_type": "code",
   "execution_count": 10,
   "metadata": {},
   "outputs": [
    {
     "ename": "FileNotFoundError",
     "evalue": "[Errno 2] No such file or directory: 'insurance_regression.csv'",
     "output_type": "error",
     "traceback": [
      "\u001b[1;31m---------------------------------------------------------------------------\u001b[0m",
      "\u001b[1;31mFileNotFoundError\u001b[0m                         Traceback (most recent call last)",
      "\u001b[1;32m<ipython-input-10-99935db02323>\u001b[0m in \u001b[0;36m<module>\u001b[1;34m\u001b[0m\n\u001b[0;32m      1\u001b[0m \u001b[1;31m# insurance_df = pd.read_csv('insurance_regression.csv')\u001b[0m\u001b[1;33m\u001b[0m\u001b[1;33m\u001b[0m\u001b[1;33m\u001b[0m\u001b[0m\n\u001b[1;32m----> 2\u001b[1;33m \u001b[0minsurance_df\u001b[0m \u001b[1;33m=\u001b[0m \u001b[0mpd\u001b[0m\u001b[1;33m.\u001b[0m\u001b[0mread_csv\u001b[0m\u001b[1;33m(\u001b[0m\u001b[1;34m'insurance_regression.csv'\u001b[0m\u001b[1;33m)\u001b[0m\u001b[1;33m.\u001b[0m\u001b[0mreset_index\u001b[0m\u001b[1;33m(\u001b[0m\u001b[1;33m)\u001b[0m\u001b[1;33m\u001b[0m\u001b[1;33m\u001b[0m\u001b[0m\n\u001b[0m\u001b[0;32m      3\u001b[0m \u001b[1;33m\u001b[0m\u001b[0m\n\u001b[0;32m      4\u001b[0m \u001b[0minsurance_df\u001b[0m\u001b[1;33m.\u001b[0m\u001b[0mhead\u001b[0m\u001b[1;33m(\u001b[0m\u001b[1;33m)\u001b[0m\u001b[1;33m\u001b[0m\u001b[1;33m\u001b[0m\u001b[0m\n",
      "\u001b[1;32mC:\\ProgramData\\Anaconda3\\lib\\site-packages\\pandas\\io\\parsers.py\u001b[0m in \u001b[0;36mread_csv\u001b[1;34m(filepath_or_buffer, sep, delimiter, header, names, index_col, usecols, squeeze, prefix, mangle_dupe_cols, dtype, engine, converters, true_values, false_values, skipinitialspace, skiprows, skipfooter, nrows, na_values, keep_default_na, na_filter, verbose, skip_blank_lines, parse_dates, infer_datetime_format, keep_date_col, date_parser, dayfirst, cache_dates, iterator, chunksize, compression, thousands, decimal, lineterminator, quotechar, quoting, doublequote, escapechar, comment, encoding, dialect, error_bad_lines, warn_bad_lines, delim_whitespace, low_memory, memory_map, float_precision)\u001b[0m\n\u001b[0;32m    684\u001b[0m     )\n\u001b[0;32m    685\u001b[0m \u001b[1;33m\u001b[0m\u001b[0m\n\u001b[1;32m--> 686\u001b[1;33m     \u001b[1;32mreturn\u001b[0m \u001b[0m_read\u001b[0m\u001b[1;33m(\u001b[0m\u001b[0mfilepath_or_buffer\u001b[0m\u001b[1;33m,\u001b[0m \u001b[0mkwds\u001b[0m\u001b[1;33m)\u001b[0m\u001b[1;33m\u001b[0m\u001b[1;33m\u001b[0m\u001b[0m\n\u001b[0m\u001b[0;32m    687\u001b[0m \u001b[1;33m\u001b[0m\u001b[0m\n\u001b[0;32m    688\u001b[0m \u001b[1;33m\u001b[0m\u001b[0m\n",
      "\u001b[1;32mC:\\ProgramData\\Anaconda3\\lib\\site-packages\\pandas\\io\\parsers.py\u001b[0m in \u001b[0;36m_read\u001b[1;34m(filepath_or_buffer, kwds)\u001b[0m\n\u001b[0;32m    450\u001b[0m \u001b[1;33m\u001b[0m\u001b[0m\n\u001b[0;32m    451\u001b[0m     \u001b[1;31m# Create the parser.\u001b[0m\u001b[1;33m\u001b[0m\u001b[1;33m\u001b[0m\u001b[1;33m\u001b[0m\u001b[0m\n\u001b[1;32m--> 452\u001b[1;33m     \u001b[0mparser\u001b[0m \u001b[1;33m=\u001b[0m \u001b[0mTextFileReader\u001b[0m\u001b[1;33m(\u001b[0m\u001b[0mfp_or_buf\u001b[0m\u001b[1;33m,\u001b[0m \u001b[1;33m**\u001b[0m\u001b[0mkwds\u001b[0m\u001b[1;33m)\u001b[0m\u001b[1;33m\u001b[0m\u001b[1;33m\u001b[0m\u001b[0m\n\u001b[0m\u001b[0;32m    453\u001b[0m \u001b[1;33m\u001b[0m\u001b[0m\n\u001b[0;32m    454\u001b[0m     \u001b[1;32mif\u001b[0m \u001b[0mchunksize\u001b[0m \u001b[1;32mor\u001b[0m \u001b[0miterator\u001b[0m\u001b[1;33m:\u001b[0m\u001b[1;33m\u001b[0m\u001b[1;33m\u001b[0m\u001b[0m\n",
      "\u001b[1;32mC:\\ProgramData\\Anaconda3\\lib\\site-packages\\pandas\\io\\parsers.py\u001b[0m in \u001b[0;36m__init__\u001b[1;34m(self, f, engine, **kwds)\u001b[0m\n\u001b[0;32m    944\u001b[0m             \u001b[0mself\u001b[0m\u001b[1;33m.\u001b[0m\u001b[0moptions\u001b[0m\u001b[1;33m[\u001b[0m\u001b[1;34m\"has_index_names\"\u001b[0m\u001b[1;33m]\u001b[0m \u001b[1;33m=\u001b[0m \u001b[0mkwds\u001b[0m\u001b[1;33m[\u001b[0m\u001b[1;34m\"has_index_names\"\u001b[0m\u001b[1;33m]\u001b[0m\u001b[1;33m\u001b[0m\u001b[1;33m\u001b[0m\u001b[0m\n\u001b[0;32m    945\u001b[0m \u001b[1;33m\u001b[0m\u001b[0m\n\u001b[1;32m--> 946\u001b[1;33m         \u001b[0mself\u001b[0m\u001b[1;33m.\u001b[0m\u001b[0m_make_engine\u001b[0m\u001b[1;33m(\u001b[0m\u001b[0mself\u001b[0m\u001b[1;33m.\u001b[0m\u001b[0mengine\u001b[0m\u001b[1;33m)\u001b[0m\u001b[1;33m\u001b[0m\u001b[1;33m\u001b[0m\u001b[0m\n\u001b[0m\u001b[0;32m    947\u001b[0m \u001b[1;33m\u001b[0m\u001b[0m\n\u001b[0;32m    948\u001b[0m     \u001b[1;32mdef\u001b[0m \u001b[0mclose\u001b[0m\u001b[1;33m(\u001b[0m\u001b[0mself\u001b[0m\u001b[1;33m)\u001b[0m\u001b[1;33m:\u001b[0m\u001b[1;33m\u001b[0m\u001b[1;33m\u001b[0m\u001b[0m\n",
      "\u001b[1;32mC:\\ProgramData\\Anaconda3\\lib\\site-packages\\pandas\\io\\parsers.py\u001b[0m in \u001b[0;36m_make_engine\u001b[1;34m(self, engine)\u001b[0m\n\u001b[0;32m   1176\u001b[0m     \u001b[1;32mdef\u001b[0m \u001b[0m_make_engine\u001b[0m\u001b[1;33m(\u001b[0m\u001b[0mself\u001b[0m\u001b[1;33m,\u001b[0m \u001b[0mengine\u001b[0m\u001b[1;33m=\u001b[0m\u001b[1;34m\"c\"\u001b[0m\u001b[1;33m)\u001b[0m\u001b[1;33m:\u001b[0m\u001b[1;33m\u001b[0m\u001b[1;33m\u001b[0m\u001b[0m\n\u001b[0;32m   1177\u001b[0m         \u001b[1;32mif\u001b[0m \u001b[0mengine\u001b[0m \u001b[1;33m==\u001b[0m \u001b[1;34m\"c\"\u001b[0m\u001b[1;33m:\u001b[0m\u001b[1;33m\u001b[0m\u001b[1;33m\u001b[0m\u001b[0m\n\u001b[1;32m-> 1178\u001b[1;33m             \u001b[0mself\u001b[0m\u001b[1;33m.\u001b[0m\u001b[0m_engine\u001b[0m \u001b[1;33m=\u001b[0m \u001b[0mCParserWrapper\u001b[0m\u001b[1;33m(\u001b[0m\u001b[0mself\u001b[0m\u001b[1;33m.\u001b[0m\u001b[0mf\u001b[0m\u001b[1;33m,\u001b[0m \u001b[1;33m**\u001b[0m\u001b[0mself\u001b[0m\u001b[1;33m.\u001b[0m\u001b[0moptions\u001b[0m\u001b[1;33m)\u001b[0m\u001b[1;33m\u001b[0m\u001b[1;33m\u001b[0m\u001b[0m\n\u001b[0m\u001b[0;32m   1179\u001b[0m         \u001b[1;32melse\u001b[0m\u001b[1;33m:\u001b[0m\u001b[1;33m\u001b[0m\u001b[1;33m\u001b[0m\u001b[0m\n\u001b[0;32m   1180\u001b[0m             \u001b[1;32mif\u001b[0m \u001b[0mengine\u001b[0m \u001b[1;33m==\u001b[0m \u001b[1;34m\"python\"\u001b[0m\u001b[1;33m:\u001b[0m\u001b[1;33m\u001b[0m\u001b[1;33m\u001b[0m\u001b[0m\n",
      "\u001b[1;32mC:\\ProgramData\\Anaconda3\\lib\\site-packages\\pandas\\io\\parsers.py\u001b[0m in \u001b[0;36m__init__\u001b[1;34m(self, src, **kwds)\u001b[0m\n\u001b[0;32m   2006\u001b[0m         \u001b[0mkwds\u001b[0m\u001b[1;33m[\u001b[0m\u001b[1;34m\"usecols\"\u001b[0m\u001b[1;33m]\u001b[0m \u001b[1;33m=\u001b[0m \u001b[0mself\u001b[0m\u001b[1;33m.\u001b[0m\u001b[0musecols\u001b[0m\u001b[1;33m\u001b[0m\u001b[1;33m\u001b[0m\u001b[0m\n\u001b[0;32m   2007\u001b[0m \u001b[1;33m\u001b[0m\u001b[0m\n\u001b[1;32m-> 2008\u001b[1;33m         \u001b[0mself\u001b[0m\u001b[1;33m.\u001b[0m\u001b[0m_reader\u001b[0m \u001b[1;33m=\u001b[0m \u001b[0mparsers\u001b[0m\u001b[1;33m.\u001b[0m\u001b[0mTextReader\u001b[0m\u001b[1;33m(\u001b[0m\u001b[0msrc\u001b[0m\u001b[1;33m,\u001b[0m \u001b[1;33m**\u001b[0m\u001b[0mkwds\u001b[0m\u001b[1;33m)\u001b[0m\u001b[1;33m\u001b[0m\u001b[1;33m\u001b[0m\u001b[0m\n\u001b[0m\u001b[0;32m   2009\u001b[0m         \u001b[0mself\u001b[0m\u001b[1;33m.\u001b[0m\u001b[0munnamed_cols\u001b[0m \u001b[1;33m=\u001b[0m \u001b[0mself\u001b[0m\u001b[1;33m.\u001b[0m\u001b[0m_reader\u001b[0m\u001b[1;33m.\u001b[0m\u001b[0munnamed_cols\u001b[0m\u001b[1;33m\u001b[0m\u001b[1;33m\u001b[0m\u001b[0m\n\u001b[0;32m   2010\u001b[0m \u001b[1;33m\u001b[0m\u001b[0m\n",
      "\u001b[1;32mpandas\\_libs\\parsers.pyx\u001b[0m in \u001b[0;36mpandas._libs.parsers.TextReader.__cinit__\u001b[1;34m()\u001b[0m\n",
      "\u001b[1;32mpandas\\_libs\\parsers.pyx\u001b[0m in \u001b[0;36mpandas._libs.parsers.TextReader._setup_parser_source\u001b[1;34m()\u001b[0m\n",
      "\u001b[1;31mFileNotFoundError\u001b[0m: [Errno 2] No such file or directory: 'insurance_regression.csv'"
     ]
    }
   ],
   "source": [
    "# insurance_df = pd.read_csv('insurance_regression.csv')\n",
    "insurance_df = pd.read_csv('insurance_regression.csv').reset_index()\n",
    "\n",
    "insurance_df.head()"
   ]
  },
  {
   "cell_type": "code",
   "execution_count": 11,
   "metadata": {},
   "outputs": [
    {
     "ename": "NameError",
     "evalue": "name 'insurance_df' is not defined",
     "output_type": "error",
     "traceback": [
      "\u001b[1;31m---------------------------------------------------------------------------\u001b[0m",
      "\u001b[1;31mNameError\u001b[0m                                 Traceback (most recent call last)",
      "\u001b[1;32m<ipython-input-11-9134f634b957>\u001b[0m in \u001b[0;36m<module>\u001b[1;34m\u001b[0m\n\u001b[0;32m      2\u001b[0m \u001b[0mtarget\u001b[0m \u001b[1;33m=\u001b[0m \u001b[1;33m[\u001b[0m\u001b[1;34m'charges'\u001b[0m\u001b[1;33m]\u001b[0m\u001b[1;33m\u001b[0m\u001b[1;33m\u001b[0m\u001b[0m\n\u001b[0;32m      3\u001b[0m \u001b[1;33m\u001b[0m\u001b[0m\n\u001b[1;32m----> 4\u001b[1;33m \u001b[0mX\u001b[0m \u001b[1;33m=\u001b[0m \u001b[0minsurance_df\u001b[0m\u001b[1;33m[\u001b[0m\u001b[0mcolumns\u001b[0m\u001b[1;33m]\u001b[0m\u001b[1;33m\u001b[0m\u001b[1;33m\u001b[0m\u001b[0m\n\u001b[0m\u001b[0;32m      5\u001b[0m \u001b[0my\u001b[0m \u001b[1;33m=\u001b[0m \u001b[0minsurance_df\u001b[0m\u001b[1;33m[\u001b[0m\u001b[0mtarget\u001b[0m\u001b[1;33m]\u001b[0m\u001b[1;33m\u001b[0m\u001b[1;33m\u001b[0m\u001b[0m\n\u001b[0;32m      6\u001b[0m \u001b[1;33m\u001b[0m\u001b[0m\n",
      "\u001b[1;31mNameError\u001b[0m: name 'insurance_df' is not defined"
     ]
    }
   ],
   "source": [
    "columns = ['age','sex', 'bmi', 'children', 'smoker', 'region']\n",
    "target = ['charges']\n",
    "\n",
    "X = insurance_df[columns]\n",
    "y = insurance_df[target]\n",
    "\n",
    "X_dummies = pd.get_dummies(X)\n",
    "\n",
    "X_final = X_dummies.drop(['sex_male', 'smoker_no'], axis=1)\n",
    "\n",
    "X_final.head()"
   ]
  },
  {
   "cell_type": "code",
   "execution_count": 12,
   "metadata": {},
   "outputs": [
    {
     "ename": "NameError",
     "evalue": "name 'X_final' is not defined",
     "output_type": "error",
     "traceback": [
      "\u001b[1;31m---------------------------------------------------------------------------\u001b[0m",
      "\u001b[1;31mNameError\u001b[0m                                 Traceback (most recent call last)",
      "\u001b[1;32m<ipython-input-12-e86da2e686c8>\u001b[0m in \u001b[0;36m<module>\u001b[1;34m\u001b[0m\n\u001b[1;32m----> 1\u001b[1;33m \u001b[0mX_train\u001b[0m\u001b[1;33m,\u001b[0m \u001b[0mX_test\u001b[0m\u001b[1;33m,\u001b[0m \u001b[0my_train\u001b[0m\u001b[1;33m,\u001b[0m \u001b[0my_test\u001b[0m \u001b[1;33m=\u001b[0m \u001b[0mtrain_test_split\u001b[0m\u001b[1;33m(\u001b[0m\u001b[0mX_final\u001b[0m\u001b[1;33m,\u001b[0m \u001b[0my\u001b[0m\u001b[1;33m,\u001b[0m \u001b[0mtest_size\u001b[0m \u001b[1;33m=\u001b[0m \u001b[1;36m0.3\u001b[0m\u001b[1;33m,\u001b[0m \u001b[0mrandom_state\u001b[0m \u001b[1;33m=\u001b[0m \u001b[1;36m42\u001b[0m\u001b[1;33m)\u001b[0m\u001b[1;33m\u001b[0m\u001b[1;33m\u001b[0m\u001b[0m\n\u001b[0m",
      "\u001b[1;31mNameError\u001b[0m: name 'X_final' is not defined"
     ]
    }
   ],
   "source": [
    "X_train, X_test, y_train, y_test = train_test_split(X_final, y, test_size = 0.3, random_state = 42)"
   ]
  },
  {
   "cell_type": "code",
   "execution_count": 12,
   "metadata": {},
   "outputs": [],
   "source": [
    "model = LinearRegression() "
   ]
  },
  {
   "cell_type": "code",
   "execution_count": 13,
   "metadata": {},
   "outputs": [
    {
     "data": {
      "text/plain": [
       "LinearRegression()"
      ]
     },
     "execution_count": 13,
     "metadata": {},
     "output_type": "execute_result"
    }
   ],
   "source": [
    "model.fit(X_train, y_train)"
   ]
  },
  {
   "cell_type": "code",
   "execution_count": 27,
   "metadata": {},
   "outputs": [
    {
     "name": "stdout",
     "output_type": "stream",
     "text": [
      "0.7696118054369008\n"
     ]
    }
   ],
   "source": [
    "print(model.score(X_test, y_test))"
   ]
  },
  {
   "cell_type": "code",
   "execution_count": 13,
   "metadata": {},
   "outputs": [],
   "source": [
    "import joblib"
   ]
  },
  {
   "cell_type": "code",
   "execution_count": 29,
   "metadata": {},
   "outputs": [
    {
     "data": {
      "text/plain": [
       "['finalized_model.sav']"
      ]
     },
     "execution_count": 29,
     "metadata": {},
     "output_type": "execute_result"
    }
   ],
   "source": [
    "# saving the model\n",
    "filename = 'finalized_model.sav'\n",
    "joblib.dump(model, filename)"
   ]
  },
  {
   "cell_type": "code",
   "execution_count": 30,
   "metadata": {},
   "outputs": [],
   "source": [
    "loaded_model = joblib.load(filename)"
   ]
  },
  {
   "cell_type": "code",
   "execution_count": 31,
   "metadata": {},
   "outputs": [
    {
     "data": {
      "text/plain": [
       "array([[ 9.01636753e+03],\n",
       "       [ 7.01997635e+03],\n",
       "       [ 3.68708343e+04],\n",
       "       [ 9.51853774e+03],\n",
       "       [ 2.69740308e+04],\n",
       "       [ 1.10808462e+04],\n",
       "       [-4.06177600e+01],\n",
       "       [ 1.71922331e+04],\n",
       "       [ 9.74950536e+02],\n",
       "       [ 1.13299594e+04],\n",
       "       [ 2.80574861e+04],\n",
       "       [ 9.47838799e+03],\n",
       "       [ 4.98095281e+03],\n",
       "       [ 3.84564701e+04],\n",
       "       [ 4.03433327e+04],\n",
       "       [ 3.71038753e+04],\n",
       "       [ 1.51982019e+04],\n",
       "       [ 3.57689693e+04],\n",
       "       [ 8.88568387e+03],\n",
       "       [ 3.13835989e+04],\n",
       "       [ 3.79641903e+03],\n",
       "       [ 1.02628964e+04],\n",
       "       [ 2.37593679e+03],\n",
       "       [ 7.26280819e+03],\n",
       "       [ 1.12875675e+04],\n",
       "       [ 1.31383480e+04],\n",
       "       [ 1.46241614e+04],\n",
       "       [ 6.07324604e+03],\n",
       "       [ 1.00361537e+04],\n",
       "       [ 1.97927814e+03],\n",
       "       [ 9.07103928e+03],\n",
       "       [ 1.31369887e+04],\n",
       "       [ 4.30868680e+03],\n",
       "       [ 3.21105955e+03],\n",
       "       [ 4.48957162e+03],\n",
       "       [ 1.33774493e+04],\n",
       "       [ 1.82221028e+03],\n",
       "       [ 8.79191682e+03],\n",
       "       [ 3.31981518e+04],\n",
       "       [ 3.25005781e+04],\n",
       "       [ 3.76368816e+03],\n",
       "       [ 4.35479656e+03],\n",
       "       [ 1.42473276e+04],\n",
       "       [ 1.15436019e+04],\n",
       "       [ 8.70433805e+03],\n",
       "       [ 1.22401028e+04],\n",
       "       [ 5.20831471e+03],\n",
       "       [ 2.98293172e+03],\n",
       "       [ 3.54465532e+04],\n",
       "       [ 9.10285846e+03],\n",
       "       [ 1.57820945e+04],\n",
       "       [ 2.13473894e+03],\n",
       "       [ 1.24668220e+04],\n",
       "       [ 1.54938571e+03],\n",
       "       [ 1.34053719e+04],\n",
       "       [ 1.28473334e+04],\n",
       "       [ 4.45292570e+03],\n",
       "       [ 3.22437514e+04],\n",
       "       [ 1.34037537e+04],\n",
       "       [ 1.30759280e+04],\n",
       "       [ 1.42566593e+04],\n",
       "       [ 1.03870794e+04],\n",
       "       [ 1.66115344e+04],\n",
       "       [ 7.67924983e+03],\n",
       "       [ 1.19859772e+04],\n",
       "       [ 3.92843534e+03],\n",
       "       [ 2.65835119e+04],\n",
       "       [ 1.08308191e+04],\n",
       "       [ 1.95128291e+03],\n",
       "       [ 6.33488049e+03],\n",
       "       [ 1.10112514e+04],\n",
       "       [ 1.17636262e+04],\n",
       "       [ 1.08263871e+04],\n",
       "       [ 9.08234702e+03],\n",
       "       [ 1.19604601e+04],\n",
       "       [ 6.50105143e+03],\n",
       "       [ 7.42735409e+03],\n",
       "       [ 1.07211916e+04],\n",
       "       [ 6.33354759e+03],\n",
       "       [ 8.69733988e+03],\n",
       "       [ 3.61488505e+03],\n",
       "       [ 3.68736945e+04],\n",
       "       [ 6.30687909e+03],\n",
       "       [ 3.09068874e+04],\n",
       "       [ 3.49064234e+04],\n",
       "       [ 3.55280239e+04],\n",
       "       [ 6.88613550e+03],\n",
       "       [ 1.30506683e+04],\n",
       "       [ 9.92931617e+03],\n",
       "       [ 1.46956125e+04],\n",
       "       [ 1.79662926e+04],\n",
       "       [ 3.50278076e+04],\n",
       "       [ 3.30746710e+04],\n",
       "       [ 6.32482249e+03],\n",
       "       [ 3.19085861e+04],\n",
       "       [ 9.60073983e+03],\n",
       "       [ 2.92677441e+04],\n",
       "       [ 3.39493394e+03],\n",
       "       [ 2.81321269e+04],\n",
       "       [ 5.80676746e+03],\n",
       "       [ 5.31282926e+03],\n",
       "       [ 1.74776460e+03],\n",
       "       [ 1.15200454e+04],\n",
       "       [ 1.53050498e+04],\n",
       "       [ 1.19233534e+04],\n",
       "       [ 4.16886626e+03],\n",
       "       [ 9.81313523e+03],\n",
       "       [ 3.15291378e+04],\n",
       "       [-7.47759770e+01],\n",
       "       [ 3.25392808e+04],\n",
       "       [ 3.31798546e+03],\n",
       "       [ 1.02123570e+04],\n",
       "       [ 1.45082163e+04],\n",
       "       [ 3.16997266e+04],\n",
       "       [ 1.15930594e+04],\n",
       "       [ 3.96851082e+03],\n",
       "       [ 1.33856566e+04],\n",
       "       [ 3.17279010e+04],\n",
       "       [ 7.91762470e+03],\n",
       "       [ 3.22395489e+03],\n",
       "       [ 8.53540558e+03],\n",
       "       [ 1.07379420e+04],\n",
       "       [ 1.54527618e+04],\n",
       "       [ 5.54280724e+03],\n",
       "       [ 3.62333901e+03],\n",
       "       [ 1.02353762e+04],\n",
       "       [ 1.07499966e+04],\n",
       "       [ 1.13664096e+04],\n",
       "       [ 1.43531092e+04],\n",
       "       [ 7.39239715e+03],\n",
       "       [ 5.11044589e+03],\n",
       "       [ 9.15211414e+03],\n",
       "       [ 9.16049984e+03],\n",
       "       [ 1.27422989e+04],\n",
       "       [ 8.33444005e+03],\n",
       "       [ 1.55896092e+04],\n",
       "       [ 8.65087064e+03],\n",
       "       [ 3.18745705e+04],\n",
       "       [ 3.58544577e+04],\n",
       "       [ 3.16617444e+04],\n",
       "       [ 5.92615317e+03],\n",
       "       [ 1.27853573e+04],\n",
       "       [ 5.91188204e+03],\n",
       "       [ 1.46675118e+04],\n",
       "       [ 2.27316618e+03],\n",
       "       [ 3.30166968e+04],\n",
       "       [ 6.29418942e+03],\n",
       "       [ 4.95310907e+03],\n",
       "       [ 1.44325801e+04],\n",
       "       [ 7.01569740e+03],\n",
       "       [ 3.87492720e+04],\n",
       "       [ 2.96019320e+03],\n",
       "       [ 5.81725421e+03],\n",
       "       [ 3.18785754e+04],\n",
       "       [ 1.16459127e+04],\n",
       "       [ 8.71329062e+03],\n",
       "       [ 1.51346583e+04],\n",
       "       [ 9.60753792e+03],\n",
       "       [ 2.68003840e+04],\n",
       "       [ 3.36706354e+04],\n",
       "       [ 1.47334585e+04],\n",
       "       [ 1.51047070e+03],\n",
       "       [ 1.33077834e+04],\n",
       "       [ 2.29238567e+03],\n",
       "       [ 5.49596778e+03],\n",
       "       [ 1.15549473e+04],\n",
       "       [ 3.99435773e+04],\n",
       "       [ 3.65333329e+04],\n",
       "       [ 3.42186307e+04],\n",
       "       [ 3.80401582e+03],\n",
       "       [ 7.35909889e+03],\n",
       "       [ 8.65388710e+03],\n",
       "       [ 1.28040524e+04],\n",
       "       [ 4.81713793e+03],\n",
       "       [ 1.90362292e+03],\n",
       "       [ 3.19590456e+04],\n",
       "       [ 2.50622553e+04],\n",
       "       [ 1.76066342e+04],\n",
       "       [ 2.61755399e+04],\n",
       "       [ 1.01206885e+04],\n",
       "       [ 3.73947874e+04],\n",
       "       [-5.95739589e+02],\n",
       "       [ 6.77709620e+03],\n",
       "       [ 7.76609078e+03],\n",
       "       [ 4.43645530e+03],\n",
       "       [ 5.04452875e+03],\n",
       "       [ 6.07417881e+03],\n",
       "       [ 4.20334246e+03],\n",
       "       [ 1.51726032e+04],\n",
       "       [ 1.12607758e+04],\n",
       "       [ 7.03115820e+03],\n",
       "       [ 2.50525091e+03],\n",
       "       [ 1.46223072e+03],\n",
       "       [ 3.20466562e+04],\n",
       "       [ 1.65083439e+04],\n",
       "       [ 1.18789362e+04],\n",
       "       [ 1.07957066e+03],\n",
       "       [ 1.26607400e+04],\n",
       "       [ 1.51086620e+03],\n",
       "       [ 8.69657642e+03],\n",
       "       [ 1.68902224e+03],\n",
       "       [ 3.40058138e+04],\n",
       "       [ 1.08756889e+04],\n",
       "       [ 2.56974017e+03],\n",
       "       [ 2.52981537e+04],\n",
       "       [ 2.59738976e+04],\n",
       "       [ 9.52339115e+03],\n",
       "       [ 1.58473036e+03],\n",
       "       [ 1.33107441e+04],\n",
       "       [ 9.13519256e+02],\n",
       "       [ 1.04715423e+04],\n",
       "       [ 1.03398989e+04],\n",
       "       [ 1.72658883e+04],\n",
       "       [ 2.66233875e+04],\n",
       "       [ 6.77219998e+03],\n",
       "       [ 5.20991396e+03],\n",
       "       [ 5.56558337e+03],\n",
       "       [ 1.30540226e+04],\n",
       "       [ 1.08915693e+04],\n",
       "       [ 8.16068430e+03],\n",
       "       [ 5.08929190e+03],\n",
       "       [ 1.25297793e+04],\n",
       "       [ 1.39348614e+04],\n",
       "       [ 3.57516495e+04],\n",
       "       [ 4.19584669e+03],\n",
       "       [ 2.87579313e+04],\n",
       "       [-1.14816280e+03],\n",
       "       [ 2.88161740e+03],\n",
       "       [ 1.09878160e+04],\n",
       "       [ 1.56242628e+04],\n",
       "       [ 5.10433431e+03],\n",
       "       [ 6.76301444e+03],\n",
       "       [ 3.70867236e+03],\n",
       "       [ 3.13682722e+04],\n",
       "       [ 7.12374983e+03],\n",
       "       [ 1.24206482e+04],\n",
       "       [ 5.65837260e+03],\n",
       "       [ 9.67672163e+03],\n",
       "       [ 3.61915157e+04],\n",
       "       [ 4.29099794e+03],\n",
       "       [ 9.70105983e+03],\n",
       "       [ 3.12449368e+04],\n",
       "       [ 5.70357956e+03],\n",
       "       [ 4.31220132e+03],\n",
       "       [ 9.92286457e+02],\n",
       "       [ 4.87642666e+03],\n",
       "       [ 4.45920549e+03],\n",
       "       [ 6.58071354e+03],\n",
       "       [ 1.86745012e+04],\n",
       "       [-1.69255225e+03],\n",
       "       [ 2.25329636e+03],\n",
       "       [ 1.08451735e+04],\n",
       "       [ 3.01782548e+03],\n",
       "       [ 1.02761615e+04],\n",
       "       [ 3.63182475e+03],\n",
       "       [ 4.85687937e+03],\n",
       "       [ 1.25657503e+04],\n",
       "       [ 6.29493049e+03],\n",
       "       [ 8.39003640e+03],\n",
       "       [ 7.63851451e+03],\n",
       "       [ 8.87347523e+03],\n",
       "       [ 1.04366607e+04],\n",
       "       [ 2.76138998e+04],\n",
       "       [ 3.90930962e+04],\n",
       "       [ 1.17741240e+04],\n",
       "       [ 7.86236646e+03],\n",
       "       [ 4.09351452e+04],\n",
       "       [ 1.23825919e+04],\n",
       "       [ 6.96769121e+03],\n",
       "       [ 8.39240771e+03],\n",
       "       [ 8.91633322e+03],\n",
       "       [ 1.09407283e+04],\n",
       "       [ 1.00125242e+04],\n",
       "       [ 1.76907551e+04],\n",
       "       [ 9.26683559e+02],\n",
       "       [ 2.35867374e+04],\n",
       "       [ 1.29922761e+04],\n",
       "       [ 3.33839370e+04],\n",
       "       [ 5.28567464e+03],\n",
       "       [ 1.31828238e+04],\n",
       "       [ 1.03836902e+04],\n",
       "       [ 1.80715482e+04],\n",
       "       [ 9.94657758e+03],\n",
       "       [ 1.15453067e+04],\n",
       "       [ 3.23413107e+04],\n",
       "       [ 3.41161034e+03],\n",
       "       [ 1.35695874e+04],\n",
       "       [ 3.94082337e+04],\n",
       "       [ 5.63940644e+03],\n",
       "       [ 6.20614527e+03],\n",
       "       [ 3.46648946e+03],\n",
       "       [ 1.15027340e+04],\n",
       "       [ 2.54222822e+04],\n",
       "       [ 1.43993856e+04],\n",
       "       [ 9.12076342e+03],\n",
       "       [ 1.02268595e+04],\n",
       "       [ 1.34991650e+04],\n",
       "       [ 8.25909265e+02],\n",
       "       [ 2.19043856e+03],\n",
       "       [ 3.06679851e+04],\n",
       "       [ 3.00633206e+04],\n",
       "       [ 1.36495385e+04],\n",
       "       [ 3.62504384e+03],\n",
       "       [ 2.53430882e+04],\n",
       "       [ 1.33871712e+04],\n",
       "       [ 3.06238167e+04],\n",
       "       [ 3.52503711e+03],\n",
       "       [ 3.89322157e+04],\n",
       "       [ 1.11916611e+04],\n",
       "       [ 4.71456861e+03],\n",
       "       [ 6.78218447e+03],\n",
       "       [ 2.36501751e+03],\n",
       "       [ 2.58238275e+04],\n",
       "       [ 1.44838321e+04],\n",
       "       [ 4.96503755e+02],\n",
       "       [ 1.28284375e+04],\n",
       "       [ 1.26451381e+04],\n",
       "       [ 1.50224474e+04],\n",
       "       [ 3.49844233e+04],\n",
       "       [ 1.44199994e+04],\n",
       "       [ 3.14508055e+04],\n",
       "       [ 1.00596099e+04],\n",
       "       [ 1.84250838e+04],\n",
       "       [ 6.02322900e+03],\n",
       "       [ 8.77054459e+03],\n",
       "       [ 9.42475332e+03],\n",
       "       [ 1.52623599e+04],\n",
       "       [ 9.10147364e+03],\n",
       "       [ 8.57703747e+03],\n",
       "       [ 1.52538666e+04],\n",
       "       [ 1.29162371e+04],\n",
       "       [ 1.50507091e+04],\n",
       "       [ 7.55688638e+03],\n",
       "       [ 2.59073220e+04],\n",
       "       [ 9.17887997e+03],\n",
       "       [ 1.76843257e+03],\n",
       "       [ 4.06914171e+03],\n",
       "       [ 1.44063918e+04],\n",
       "       [ 3.56818824e+04],\n",
       "       [ 9.65101980e+03],\n",
       "       [ 1.27491470e+04],\n",
       "       [ 5.36425043e+03],\n",
       "       [ 4.90925822e+03],\n",
       "       [ 3.96001083e+03],\n",
       "       [ 2.83671248e+03],\n",
       "       [ 8.96711387e+03],\n",
       "       [ 6.97687982e+03],\n",
       "       [ 2.29664368e+03],\n",
       "       [ 1.32191990e+04],\n",
       "       [ 8.83743782e+03],\n",
       "       [ 5.95734540e+03],\n",
       "       [ 6.77014819e+02],\n",
       "       [ 9.45177386e+03],\n",
       "       [ 4.78553948e+03],\n",
       "       [ 3.30846888e+04],\n",
       "       [ 2.84093679e+04],\n",
       "       [ 3.68889748e+04],\n",
       "       [ 5.66951803e+03],\n",
       "       [ 8.49155880e+03],\n",
       "       [ 8.19133366e+03],\n",
       "       [ 3.54425195e+03],\n",
       "       [ 3.17311679e+04],\n",
       "       [ 7.22097249e+03],\n",
       "       [ 2.81725993e+04],\n",
       "       [ 3.62070046e+04],\n",
       "       [ 6.92517056e+03],\n",
       "       [ 1.30191895e+04],\n",
       "       [ 9.89787484e+03],\n",
       "       [ 8.25555525e+03],\n",
       "       [ 1.29121247e+04],\n",
       "       [ 3.02357185e+04],\n",
       "       [ 1.73698010e+04],\n",
       "       [ 1.20163203e+04],\n",
       "       [ 3.92606402e+03],\n",
       "       [-1.31795195e+03],\n",
       "       [ 1.23019494e+04],\n",
       "       [ 3.09216571e+04],\n",
       "       [ 1.29541180e+04],\n",
       "       [ 1.13530730e+04],\n",
       "       [ 7.95364590e+03],\n",
       "       [ 3.70314484e+03],\n",
       "       [ 7.16459184e+03],\n",
       "       [ 7.19704321e+03],\n",
       "       [ 1.07380621e+04],\n",
       "       [ 3.36978089e+04],\n",
       "       [ 3.92682564e+04],\n",
       "       [ 1.19732353e+04],\n",
       "       [ 8.28169782e+03],\n",
       "       [ 1.65740731e+04],\n",
       "       [ 1.57632625e+04],\n",
       "       [ 9.68911634e+03],\n",
       "       [ 9.40128897e+03],\n",
       "       [ 8.88121990e+03],\n",
       "       [ 2.71557719e+03],\n",
       "       [ 1.01799538e+04],\n",
       "       [ 3.69233650e+03],\n",
       "       [ 1.06473891e+04],\n",
       "       [ 1.63027222e+04],\n",
       "       [ 6.52910373e+03],\n",
       "       [ 2.17378934e+03],\n",
       "       [ 1.45036622e+04],\n",
       "       [ 1.30534757e+02]])"
      ]
     },
     "execution_count": 31,
     "metadata": {},
     "output_type": "execute_result"
    }
   ],
   "source": [
    "loaded_model.predict(X_test)"
   ]
  },
  {
   "cell_type": "code",
   "execution_count": 14,
   "metadata": {},
   "outputs": [],
   "source": [
    "# get coefficients\n",
    "coefficient = model.coef_\n",
    "\n",
    "# get intercept\n",
    "intercept = model.intercept_"
   ]
  },
  {
   "cell_type": "code",
   "execution_count": 15,
   "metadata": {},
   "outputs": [
    {
     "data": {
      "text/plain": [
       "array([[  261.29692414,   348.90691516,   424.11912829,  -104.81182299,\n",
       "        23628.36722236,   596.05658924,   109.12197876,  -374.91224933,\n",
       "         -330.26631867]])"
      ]
     },
     "execution_count": 15,
     "metadata": {},
     "output_type": "execute_result"
    }
   ],
   "source": [
    "coefficient"
   ]
  },
  {
   "cell_type": "code",
   "execution_count": 16,
   "metadata": {},
   "outputs": [
    {
     "data": {
      "text/plain": [
       "array([-12865.20866928])"
      ]
     },
     "execution_count": 16,
     "metadata": {},
     "output_type": "execute_result"
    }
   ],
   "source": [
    "intercept"
   ]
  },
  {
   "cell_type": "code",
   "execution_count": 18,
   "metadata": {},
   "outputs": [
    {
     "data": {
      "text/plain": [
       "0.7506272930769431"
      ]
     },
     "execution_count": 18,
     "metadata": {},
     "output_type": "execute_result"
    }
   ],
   "source": [
    "model.score(X_final, y)"
   ]
  },
  {
   "cell_type": "code",
   "execution_count": 19,
   "metadata": {},
   "outputs": [],
   "source": [
    "y_predicted = model.predict(X_test)"
   ]
  },
  {
   "cell_type": "code",
   "execution_count": 24,
   "metadata": {},
   "outputs": [
    {
     "data": {
      "text/html": [
       "<div>\n",
       "<style scoped>\n",
       "    .dataframe tbody tr th:only-of-type {\n",
       "        vertical-align: middle;\n",
       "    }\n",
       "\n",
       "    .dataframe tbody tr th {\n",
       "        vertical-align: top;\n",
       "    }\n",
       "\n",
       "    .dataframe thead th {\n",
       "        text-align: right;\n",
       "    }\n",
       "</style>\n",
       "<table border=\"1\" class=\"dataframe\">\n",
       "  <thead>\n",
       "    <tr style=\"text-align: right;\">\n",
       "      <th></th>\n",
       "      <th>Features</th>\n",
       "      <th>Coefficients</th>\n",
       "    </tr>\n",
       "  </thead>\n",
       "  <tbody>\n",
       "    <tr>\n",
       "      <th>0</th>\n",
       "      <td>age</td>\n",
       "      <td>[261296.92414191976, 348906.91516017495, 42411...</td>\n",
       "    </tr>\n",
       "  </tbody>\n",
       "</table>\n",
       "</div>"
      ],
      "text/plain": [
       "  Features                                       Coefficients\n",
       "0      age  [261296.92414191976, 348906.91516017495, 42411..."
      ]
     },
     "execution_count": 24,
     "metadata": {},
     "output_type": "execute_result"
    }
   ],
   "source": [
    "# put coefficients into dataframe\n",
    "# pair the feature names with the coefficients\n",
    "coefficients_pd = pd.DataFrame((list(zip(columns, model.coef_ * 1000))), columns = ['Features', 'Coefficients'])\n",
    "\n",
    "# print table of coefficients for contribution chart\n",
    "coefficients_pd"
   ]
  },
  {
   "cell_type": "code",
   "execution_count": 25,
   "metadata": {},
   "outputs": [
    {
     "ename": "TypeError",
     "evalue": "no numeric data to plot",
     "output_type": "error",
     "traceback": [
      "\u001b[1;31m---------------------------------------------------------------------------\u001b[0m",
      "\u001b[1;31mTypeError\u001b[0m                                 Traceback (most recent call last)",
      "\u001b[1;32m<ipython-input-25-2970d606aa14>\u001b[0m in \u001b[0;36m<module>\u001b[1;34m\u001b[0m\n\u001b[1;32m----> 1\u001b[1;33m \u001b[0mcoefficients_pd\u001b[0m\u001b[1;33m.\u001b[0m\u001b[0msort_values\u001b[0m\u001b[1;33m(\u001b[0m\u001b[1;34m'Coefficients'\u001b[0m\u001b[1;33m)\u001b[0m\u001b[1;33m.\u001b[0m\u001b[0mset_index\u001b[0m\u001b[1;33m(\u001b[0m\u001b[1;34m'Features'\u001b[0m\u001b[1;33m)\u001b[0m\u001b[1;33m.\u001b[0m\u001b[0mplot\u001b[0m\u001b[1;33m(\u001b[0m\u001b[0mkind\u001b[0m \u001b[1;33m=\u001b[0m \u001b[1;34m'barh'\u001b[0m\u001b[1;33m,\u001b[0m \u001b[0mcolor\u001b[0m \u001b[1;33m=\u001b[0m \u001b[1;34m'g'\u001b[0m\u001b[1;33m)\u001b[0m\u001b[1;33m\u001b[0m\u001b[1;33m\u001b[0m\u001b[0m\n\u001b[0m",
      "\u001b[1;32mC:\\ProgramData\\Anaconda3\\lib\\site-packages\\pandas\\plotting\\_core.py\u001b[0m in \u001b[0;36m__call__\u001b[1;34m(self, *args, **kwargs)\u001b[0m\n\u001b[0;32m    947\u001b[0m                     \u001b[0mdata\u001b[0m\u001b[1;33m.\u001b[0m\u001b[0mcolumns\u001b[0m \u001b[1;33m=\u001b[0m \u001b[0mlabel_name\u001b[0m\u001b[1;33m\u001b[0m\u001b[1;33m\u001b[0m\u001b[0m\n\u001b[0;32m    948\u001b[0m \u001b[1;33m\u001b[0m\u001b[0m\n\u001b[1;32m--> 949\u001b[1;33m         \u001b[1;32mreturn\u001b[0m \u001b[0mplot_backend\u001b[0m\u001b[1;33m.\u001b[0m\u001b[0mplot\u001b[0m\u001b[1;33m(\u001b[0m\u001b[0mdata\u001b[0m\u001b[1;33m,\u001b[0m \u001b[0mkind\u001b[0m\u001b[1;33m=\u001b[0m\u001b[0mkind\u001b[0m\u001b[1;33m,\u001b[0m \u001b[1;33m**\u001b[0m\u001b[0mkwargs\u001b[0m\u001b[1;33m)\u001b[0m\u001b[1;33m\u001b[0m\u001b[1;33m\u001b[0m\u001b[0m\n\u001b[0m\u001b[0;32m    950\u001b[0m \u001b[1;33m\u001b[0m\u001b[0m\n\u001b[0;32m    951\u001b[0m     \u001b[0m__call__\u001b[0m\u001b[1;33m.\u001b[0m\u001b[0m__doc__\u001b[0m \u001b[1;33m=\u001b[0m \u001b[0m__doc__\u001b[0m\u001b[1;33m\u001b[0m\u001b[1;33m\u001b[0m\u001b[0m\n",
      "\u001b[1;32mC:\\ProgramData\\Anaconda3\\lib\\site-packages\\pandas\\plotting\\_matplotlib\\__init__.py\u001b[0m in \u001b[0;36mplot\u001b[1;34m(data, kind, **kwargs)\u001b[0m\n\u001b[0;32m     59\u001b[0m             \u001b[0mkwargs\u001b[0m\u001b[1;33m[\u001b[0m\u001b[1;34m\"ax\"\u001b[0m\u001b[1;33m]\u001b[0m \u001b[1;33m=\u001b[0m \u001b[0mgetattr\u001b[0m\u001b[1;33m(\u001b[0m\u001b[0max\u001b[0m\u001b[1;33m,\u001b[0m \u001b[1;34m\"left_ax\"\u001b[0m\u001b[1;33m,\u001b[0m \u001b[0max\u001b[0m\u001b[1;33m)\u001b[0m\u001b[1;33m\u001b[0m\u001b[1;33m\u001b[0m\u001b[0m\n\u001b[0;32m     60\u001b[0m     \u001b[0mplot_obj\u001b[0m \u001b[1;33m=\u001b[0m \u001b[0mPLOT_CLASSES\u001b[0m\u001b[1;33m[\u001b[0m\u001b[0mkind\u001b[0m\u001b[1;33m]\u001b[0m\u001b[1;33m(\u001b[0m\u001b[0mdata\u001b[0m\u001b[1;33m,\u001b[0m \u001b[1;33m**\u001b[0m\u001b[0mkwargs\u001b[0m\u001b[1;33m)\u001b[0m\u001b[1;33m\u001b[0m\u001b[1;33m\u001b[0m\u001b[0m\n\u001b[1;32m---> 61\u001b[1;33m     \u001b[0mplot_obj\u001b[0m\u001b[1;33m.\u001b[0m\u001b[0mgenerate\u001b[0m\u001b[1;33m(\u001b[0m\u001b[1;33m)\u001b[0m\u001b[1;33m\u001b[0m\u001b[1;33m\u001b[0m\u001b[0m\n\u001b[0m\u001b[0;32m     62\u001b[0m     \u001b[0mplot_obj\u001b[0m\u001b[1;33m.\u001b[0m\u001b[0mdraw\u001b[0m\u001b[1;33m(\u001b[0m\u001b[1;33m)\u001b[0m\u001b[1;33m\u001b[0m\u001b[1;33m\u001b[0m\u001b[0m\n\u001b[0;32m     63\u001b[0m     \u001b[1;32mreturn\u001b[0m \u001b[0mplot_obj\u001b[0m\u001b[1;33m.\u001b[0m\u001b[0mresult\u001b[0m\u001b[1;33m\u001b[0m\u001b[1;33m\u001b[0m\u001b[0m\n",
      "\u001b[1;32mC:\\ProgramData\\Anaconda3\\lib\\site-packages\\pandas\\plotting\\_matplotlib\\core.py\u001b[0m in \u001b[0;36mgenerate\u001b[1;34m(self)\u001b[0m\n\u001b[0;32m    267\u001b[0m     \u001b[1;32mdef\u001b[0m \u001b[0mgenerate\u001b[0m\u001b[1;33m(\u001b[0m\u001b[0mself\u001b[0m\u001b[1;33m)\u001b[0m\u001b[1;33m:\u001b[0m\u001b[1;33m\u001b[0m\u001b[1;33m\u001b[0m\u001b[0m\n\u001b[0;32m    268\u001b[0m         \u001b[0mself\u001b[0m\u001b[1;33m.\u001b[0m\u001b[0m_args_adjust\u001b[0m\u001b[1;33m(\u001b[0m\u001b[1;33m)\u001b[0m\u001b[1;33m\u001b[0m\u001b[1;33m\u001b[0m\u001b[0m\n\u001b[1;32m--> 269\u001b[1;33m         \u001b[0mself\u001b[0m\u001b[1;33m.\u001b[0m\u001b[0m_compute_plot_data\u001b[0m\u001b[1;33m(\u001b[0m\u001b[1;33m)\u001b[0m\u001b[1;33m\u001b[0m\u001b[1;33m\u001b[0m\u001b[0m\n\u001b[0m\u001b[0;32m    270\u001b[0m         \u001b[0mself\u001b[0m\u001b[1;33m.\u001b[0m\u001b[0m_setup_subplots\u001b[0m\u001b[1;33m(\u001b[0m\u001b[1;33m)\u001b[0m\u001b[1;33m\u001b[0m\u001b[1;33m\u001b[0m\u001b[0m\n\u001b[0;32m    271\u001b[0m         \u001b[0mself\u001b[0m\u001b[1;33m.\u001b[0m\u001b[0m_make_plot\u001b[0m\u001b[1;33m(\u001b[0m\u001b[1;33m)\u001b[0m\u001b[1;33m\u001b[0m\u001b[1;33m\u001b[0m\u001b[0m\n",
      "\u001b[1;32mC:\\ProgramData\\Anaconda3\\lib\\site-packages\\pandas\\plotting\\_matplotlib\\core.py\u001b[0m in \u001b[0;36m_compute_plot_data\u001b[1;34m(self)\u001b[0m\n\u001b[0;32m    416\u001b[0m         \u001b[1;31m# no non-numeric frames or series allowed\u001b[0m\u001b[1;33m\u001b[0m\u001b[1;33m\u001b[0m\u001b[1;33m\u001b[0m\u001b[0m\n\u001b[0;32m    417\u001b[0m         \u001b[1;32mif\u001b[0m \u001b[0mis_empty\u001b[0m\u001b[1;33m:\u001b[0m\u001b[1;33m\u001b[0m\u001b[1;33m\u001b[0m\u001b[0m\n\u001b[1;32m--> 418\u001b[1;33m             \u001b[1;32mraise\u001b[0m \u001b[0mTypeError\u001b[0m\u001b[1;33m(\u001b[0m\u001b[1;34m\"no numeric data to plot\"\u001b[0m\u001b[1;33m)\u001b[0m\u001b[1;33m\u001b[0m\u001b[1;33m\u001b[0m\u001b[0m\n\u001b[0m\u001b[0;32m    419\u001b[0m \u001b[1;33m\u001b[0m\u001b[0m\n\u001b[0;32m    420\u001b[0m         \u001b[1;31m# GH25587: cast ExtensionArray of pandas (IntegerArray, etc.) to\u001b[0m\u001b[1;33m\u001b[0m\u001b[1;33m\u001b[0m\u001b[1;33m\u001b[0m\u001b[0m\n",
      "\u001b[1;31mTypeError\u001b[0m: no numeric data to plot"
     ]
    }
   ],
   "source": [
    "coefficients_pd.sort_values('Coefficients').set_index('Features').plot(kind = 'barh', color = 'g')"
   ]
  },
  {
   "cell_type": "code",
   "execution_count": 26,
   "metadata": {},
   "outputs": [
    {
     "ename": "ValueError",
     "evalue": "matmul: Input operand 1 has a mismatch in its core dimension 0, with gufunc signature (n?,k),(k,m?)->(n?,m?) (size 9 is different from 3)",
     "output_type": "error",
     "traceback": [
      "\u001b[1;31m---------------------------------------------------------------------------\u001b[0m",
      "\u001b[1;31mValueError\u001b[0m                                Traceback (most recent call last)",
      "\u001b[1;32m<ipython-input-26-1b078c12b98a>\u001b[0m in \u001b[0;36m<module>\u001b[1;34m\u001b[0m\n\u001b[0;32m      3\u001b[0m \u001b[1;31m# Sample TV, Radio, Newspaper\u001b[0m\u001b[1;33m\u001b[0m\u001b[1;33m\u001b[0m\u001b[1;33m\u001b[0m\u001b[0m\n\u001b[0;32m      4\u001b[0m \u001b[0mnew_data\u001b[0m \u001b[1;33m=\u001b[0m \u001b[1;33m[\u001b[0m\u001b[1;33m[\u001b[0m\u001b[1;36m10\u001b[0m\u001b[1;33m,\u001b[0m \u001b[1;36m30\u001b[0m\u001b[1;33m,\u001b[0m \u001b[1;36m100\u001b[0m\u001b[1;33m]\u001b[0m\u001b[1;33m]\u001b[0m\u001b[1;33m\u001b[0m\u001b[1;33m\u001b[0m\u001b[0m\n\u001b[1;32m----> 5\u001b[1;33m \u001b[0mmodel\u001b[0m\u001b[1;33m.\u001b[0m\u001b[0mpredict\u001b[0m\u001b[1;33m(\u001b[0m\u001b[0mnew_data\u001b[0m\u001b[1;33m)\u001b[0m\u001b[1;33m\u001b[0m\u001b[1;33m\u001b[0m\u001b[0m\n\u001b[0m",
      "\u001b[1;32mC:\\ProgramData\\Anaconda3\\lib\\site-packages\\sklearn\\linear_model\\_base.py\u001b[0m in \u001b[0;36mpredict\u001b[1;34m(self, X)\u001b[0m\n\u001b[0;32m    234\u001b[0m             \u001b[0mReturns\u001b[0m \u001b[0mpredicted\u001b[0m \u001b[0mvalues\u001b[0m\u001b[1;33m.\u001b[0m\u001b[1;33m\u001b[0m\u001b[1;33m\u001b[0m\u001b[0m\n\u001b[0;32m    235\u001b[0m         \"\"\"\n\u001b[1;32m--> 236\u001b[1;33m         \u001b[1;32mreturn\u001b[0m \u001b[0mself\u001b[0m\u001b[1;33m.\u001b[0m\u001b[0m_decision_function\u001b[0m\u001b[1;33m(\u001b[0m\u001b[0mX\u001b[0m\u001b[1;33m)\u001b[0m\u001b[1;33m\u001b[0m\u001b[1;33m\u001b[0m\u001b[0m\n\u001b[0m\u001b[0;32m    237\u001b[0m \u001b[1;33m\u001b[0m\u001b[0m\n\u001b[0;32m    238\u001b[0m     \u001b[0m_preprocess_data\u001b[0m \u001b[1;33m=\u001b[0m \u001b[0mstaticmethod\u001b[0m\u001b[1;33m(\u001b[0m\u001b[0m_preprocess_data\u001b[0m\u001b[1;33m)\u001b[0m\u001b[1;33m\u001b[0m\u001b[1;33m\u001b[0m\u001b[0m\n",
      "\u001b[1;32mC:\\ProgramData\\Anaconda3\\lib\\site-packages\\sklearn\\linear_model\\_base.py\u001b[0m in \u001b[0;36m_decision_function\u001b[1;34m(self, X)\u001b[0m\n\u001b[0;32m    217\u001b[0m \u001b[1;33m\u001b[0m\u001b[0m\n\u001b[0;32m    218\u001b[0m         \u001b[0mX\u001b[0m \u001b[1;33m=\u001b[0m \u001b[0mcheck_array\u001b[0m\u001b[1;33m(\u001b[0m\u001b[0mX\u001b[0m\u001b[1;33m,\u001b[0m \u001b[0maccept_sparse\u001b[0m\u001b[1;33m=\u001b[0m\u001b[1;33m[\u001b[0m\u001b[1;34m'csr'\u001b[0m\u001b[1;33m,\u001b[0m \u001b[1;34m'csc'\u001b[0m\u001b[1;33m,\u001b[0m \u001b[1;34m'coo'\u001b[0m\u001b[1;33m]\u001b[0m\u001b[1;33m)\u001b[0m\u001b[1;33m\u001b[0m\u001b[1;33m\u001b[0m\u001b[0m\n\u001b[1;32m--> 219\u001b[1;33m         return safe_sparse_dot(X, self.coef_.T,\n\u001b[0m\u001b[0;32m    220\u001b[0m                                dense_output=True) + self.intercept_\n\u001b[0;32m    221\u001b[0m \u001b[1;33m\u001b[0m\u001b[0m\n",
      "\u001b[1;32mC:\\ProgramData\\Anaconda3\\lib\\site-packages\\sklearn\\utils\\validation.py\u001b[0m in \u001b[0;36minner_f\u001b[1;34m(*args, **kwargs)\u001b[0m\n\u001b[0;32m     70\u001b[0m                           FutureWarning)\n\u001b[0;32m     71\u001b[0m         \u001b[0mkwargs\u001b[0m\u001b[1;33m.\u001b[0m\u001b[0mupdate\u001b[0m\u001b[1;33m(\u001b[0m\u001b[1;33m{\u001b[0m\u001b[0mk\u001b[0m\u001b[1;33m:\u001b[0m \u001b[0marg\u001b[0m \u001b[1;32mfor\u001b[0m \u001b[0mk\u001b[0m\u001b[1;33m,\u001b[0m \u001b[0marg\u001b[0m \u001b[1;32min\u001b[0m \u001b[0mzip\u001b[0m\u001b[1;33m(\u001b[0m\u001b[0msig\u001b[0m\u001b[1;33m.\u001b[0m\u001b[0mparameters\u001b[0m\u001b[1;33m,\u001b[0m \u001b[0margs\u001b[0m\u001b[1;33m)\u001b[0m\u001b[1;33m}\u001b[0m\u001b[1;33m)\u001b[0m\u001b[1;33m\u001b[0m\u001b[1;33m\u001b[0m\u001b[0m\n\u001b[1;32m---> 72\u001b[1;33m         \u001b[1;32mreturn\u001b[0m \u001b[0mf\u001b[0m\u001b[1;33m(\u001b[0m\u001b[1;33m**\u001b[0m\u001b[0mkwargs\u001b[0m\u001b[1;33m)\u001b[0m\u001b[1;33m\u001b[0m\u001b[1;33m\u001b[0m\u001b[0m\n\u001b[0m\u001b[0;32m     73\u001b[0m     \u001b[1;32mreturn\u001b[0m \u001b[0minner_f\u001b[0m\u001b[1;33m\u001b[0m\u001b[1;33m\u001b[0m\u001b[0m\n\u001b[0;32m     74\u001b[0m \u001b[1;33m\u001b[0m\u001b[0m\n",
      "\u001b[1;32mC:\\ProgramData\\Anaconda3\\lib\\site-packages\\sklearn\\utils\\extmath.py\u001b[0m in \u001b[0;36msafe_sparse_dot\u001b[1;34m(a, b, dense_output)\u001b[0m\n\u001b[0;32m    151\u001b[0m             \u001b[0mret\u001b[0m \u001b[1;33m=\u001b[0m \u001b[0mnp\u001b[0m\u001b[1;33m.\u001b[0m\u001b[0mdot\u001b[0m\u001b[1;33m(\u001b[0m\u001b[0ma\u001b[0m\u001b[1;33m,\u001b[0m \u001b[0mb\u001b[0m\u001b[1;33m)\u001b[0m\u001b[1;33m\u001b[0m\u001b[1;33m\u001b[0m\u001b[0m\n\u001b[0;32m    152\u001b[0m     \u001b[1;32melse\u001b[0m\u001b[1;33m:\u001b[0m\u001b[1;33m\u001b[0m\u001b[1;33m\u001b[0m\u001b[0m\n\u001b[1;32m--> 153\u001b[1;33m         \u001b[0mret\u001b[0m \u001b[1;33m=\u001b[0m \u001b[0ma\u001b[0m \u001b[1;33m@\u001b[0m \u001b[0mb\u001b[0m\u001b[1;33m\u001b[0m\u001b[1;33m\u001b[0m\u001b[0m\n\u001b[0m\u001b[0;32m    154\u001b[0m \u001b[1;33m\u001b[0m\u001b[0m\n\u001b[0;32m    155\u001b[0m     if (sparse.issparse(a) and sparse.issparse(b)\n",
      "\u001b[1;31mValueError\u001b[0m: matmul: Input operand 1 has a mismatch in its core dimension 0, with gufunc signature (n?,k),(k,m?)->(n?,m?) (size 9 is different from 3)"
     ]
    }
   ],
   "source": [
    "# We input new advertising data into the model to predict future sales\n",
    "\n",
    "# Sample TV, Radio, Newspaper\n",
    "new_data = [[10, 30, 100]]\n",
    "model.predict(new_data)"
   ]
  },
  {
   "cell_type": "code",
   "execution_count": 14,
   "metadata": {},
   "outputs": [
    {
     "name": "stdout",
     "output_type": "stream",
     "text": [
      "Requirement already satisfied: pipreqs in c:\\programdata\\anaconda3\\lib\\site-packages (0.4.11)\n",
      "Requirement already satisfied: docopt in c:\\programdata\\anaconda3\\lib\\site-packages (from pipreqs) (0.6.2)\n",
      "Requirement already satisfied: yarg in c:\\programdata\\anaconda3\\lib\\site-packages (from pipreqs) (0.1.9)\n",
      "Requirement already satisfied: requests in c:\\programdata\\anaconda3\\lib\\site-packages (from yarg->pipreqs) (2.25.1)\n",
      "Requirement already satisfied: certifi>=2017.4.17 in c:\\programdata\\anaconda3\\lib\\site-packages (from requests->yarg->pipreqs) (2020.12.5)\n",
      "Requirement already satisfied: chardet<5,>=3.0.2 in c:\\programdata\\anaconda3\\lib\\site-packages (from requests->yarg->pipreqs) (4.0.0)\n",
      "Requirement already satisfied: urllib3<1.27,>=1.21.1 in c:\\programdata\\anaconda3\\lib\\site-packages (from requests->yarg->pipreqs) (1.26.2)\n",
      "Requirement already satisfied: idna<3,>=2.5 in c:\\programdata\\anaconda3\\lib\\site-packages (from requests->yarg->pipreqs) (2.10)\n"
     ]
    }
   ],
   "source": [
    "!pip install pipreqs"
   ]
  },
  {
   "cell_type": "raw",
   "metadata": {},
   "source": [
    "!pipreqs"
   ]
  },
  {
   "cell_type": "code",
   "execution_count": 16,
   "metadata": {},
   "outputs": [
    {
     "name": "stderr",
     "output_type": "stream",
     "text": [
      "WARNING: requirements.txt already exists, use --force to overwrite it\n"
     ]
    }
   ],
   "source": [
    "!pipreqs"
   ]
  },
  {
   "cell_type": "code",
   "execution_count": null,
   "metadata": {},
   "outputs": [],
   "source": []
  }
 ],
 "metadata": {
  "kernelspec": {
   "display_name": "Python 3",
   "language": "python",
   "name": "python3"
  },
  "language_info": {
   "codemirror_mode": {
    "name": "ipython",
    "version": 3
   },
   "file_extension": ".py",
   "mimetype": "text/x-python",
   "name": "python",
   "nbconvert_exporter": "python",
   "pygments_lexer": "ipython3",
   "version": "3.8.5"
  }
 },
 "nbformat": 4,
 "nbformat_minor": 4
}
